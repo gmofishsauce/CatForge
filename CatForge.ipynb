{
 "cells": [
  {
   "cell_type": "code",
   "execution_count": 1,
   "id": "3c2b653e-599a-4ffb-9ecb-12d13328880b",
   "metadata": {},
   "outputs": [
    {
     "name": "stdout",
     "output_type": "stream",
     "text": [
      "mini-batch size: 32\n"
     ]
    }
   ],
   "source": [
    "import torch\n",
    "import torch.nn as nn\n",
    "import torch.optim as optim\n",
    "import torch.utils.data as ud\n",
    "from torchvision import datasets, transforms\n",
    "\n",
    "from enum import Enum\n",
    "\n",
    "import matplotlib.pyplot as plt\n",
    "%matplotlib inline\n",
    "\n",
    "# If quicktest is set, running each notebook section prints something\n",
    "Quicktest = True\n",
    "\n",
    "def plot_single(img, label):\n",
    "    fig = plt.figure\n",
    "    plt.imshow(img, cmap='gray')\n",
    "    plt.title(f\"Label: {label}\")\n",
    "    plt.show()\n",
    "\n",
    "# An obvious extension is to support image formats other than\n",
    "# the MNIST 28x28 byte per pixel gray scale.\n",
    "IMG_DIM = 28 # Images are 28x28\n",
    "IMG_SIZE = IMG_DIM*IMG_DIM\n",
    "\n",
    "# Another extension is support classification to other than\n",
    "# just 10 categories, but this is enough for MNIST and KMNIST.\n",
    "OUT_SIZE = 10 # Image elements are one of 10 digits\n",
    "\n",
    "Mode = Enum('Mode', ['TRAIN', 'EVALUATE'])\n",
    "\n",
    "# store all the things (hyperparameters)\n",
    "class Hyper():\n",
    "    def __init__(self):\n",
    "        self.cache = \"./data\" # Pytorch caches data in subdirectory (ies)\n",
    "        self.mbsize = 32 # minibatch size\n",
    "        self.tstsize = 1000 # test batch size\n",
    "        self.hl_1_size = 64 # hidden layer 1 neurons\n",
    "        self.hl_2_size = 32 # hidden layer 2 neurons\n",
    "\n",
    "hp = Hyper()\n",
    "\n",
    "if Quicktest == True:\n",
    "    print(f\"mini-batch size: {hp.mbsize}\")"
   ]
  },
  {
   "cell_type": "code",
   "execution_count": 2,
   "id": "9a911233-0273-4807-b23d-e6c4a712f9e7",
   "metadata": {},
   "outputs": [
    {
     "name": "stdout",
     "output_type": "stream",
     "text": [
      "Hiragana: <class 'int'> torch.Size([32, 1, 28, 28]) torch.Size([32])\n"
     ]
    },
    {
     "data": {
      "image/png": "[encoded data removed]",
      "text/plain": [
       "<Figure size 640x480 with 1 Axes>"
      ]
     },
     "metadata": {},
     "output_type": "display_data"
    },
    {
     "name": "stdout",
     "output_type": "stream",
     "text": [
      "English <class 'int'> torch.Size([32, 1, 28, 28]) torch.Size([32])\n"
     ]
    },
    {
     "data": {
      "image/png": "[encoded data removed]",
      "text/plain": [
       "<Figure size 640x480 with 1 Axes>"
      ]
     },
     "metadata": {},
     "output_type": "display_data"
    }
   ],
   "source": [
    "class DataHolder():\n",
    "    def __init__(self, loader, cache=hp.cache, size=hp.mbsize, test_size=hp.tstsize):\n",
    "        self.train = loader(root=cache, train=True, download=True,\n",
    "                            transform=transforms.ToTensor())\n",
    "        self.test = loader(root=cache, train=False, download=True,\n",
    "                            transform=transforms.ToTensor())\n",
    "        self.mode = Mode.TRAIN\n",
    "        self.size = size\n",
    "        self.test_size = test_size\n",
    "    \n",
    "    def __iter__(self):\n",
    "        if self.mode == Mode.TRAIN:\n",
    "            self.loader = ud.DataLoader(self.train, batch_size=self.size, shuffle=True)\n",
    "        else: # EVALUATE\n",
    "            self.loader = ud.DataLoader(self.test, batch_size=self.test_size, shuffle=False)\n",
    "        return enumerate(self.loader)\n",
    "\n",
    "    def __next__(self):\n",
    "        return next(self.loader)\n",
    "\n",
    "if Quicktest == True:\n",
    "    qk = DataHolder(datasets.KMNIST)\n",
    "    qm = DataHolder(datasets.MNIST)\n",
    "\n",
    "    for i, (data, target) in qk:\n",
    "        print(\"Hiragana:\", type(i), data.shape, target.shape)\n",
    "        plot_single(data[0, 0], target[0])\n",
    "        break\n",
    "    \n",
    "    for i, (data, target) in qm:\n",
    "        print(\"English\", type(i), data.shape, target.shape)\n",
    "        plot_single(data[0, 0], target[0])\n",
    "        break\n"
   ]
  },
  {
   "cell_type": "code",
   "execution_count": 3,
   "id": "07fc400d-c950-4b41-a4d9-1fd7cca67961",
   "metadata": {},
   "outputs": [
    {
     "name": "stdout",
     "output_type": "stream",
     "text": [
      "MLP(\n",
      "  (layers): ModuleList(\n",
      "    (0): Linear(in_features=784, out_features=64, bias=True)\n",
      "    (1): Tanh()\n",
      "    (2): Linear(in_features=64, out_features=32, bias=True)\n",
      "    (3): Tanh()\n",
      "    (4): Linear(in_features=32, out_features=10, bias=True)\n",
      "  )\n",
      "  (criterion): CrossEntropyLoss()\n",
      ")\n",
      "Adam (\n",
      "Parameter Group 0\n",
      "    amsgrad: False\n",
      "    betas: (0.9, 0.999)\n",
      "    capturable: False\n",
      "    differentiable: False\n",
      "    eps: 1e-08\n",
      "    foreach: None\n",
      "    fused: None\n",
      "    lr: 0.001\n",
      "    maximize: False\n",
      "    weight_decay: 0\n",
      ")\n"
     ]
    }
   ],
   "source": [
    "# Define the MLP model\n",
    "class MLP(nn.Module):\n",
    "    # (self, nn loss class, nn optimizer class)\n",
    "    def __init__(self, criterion, optimizer):\n",
    "        super(MLP, self).__init__()\n",
    "        self.layers = nn.ModuleList()\n",
    "        self.layers.append(nn.Linear(IMG_SIZE, hp.hl_1_size))\n",
    "        self.layers.append(nn.Tanh())\n",
    "        self.layers.append(nn.Linear(hp.hl_1_size, hp.hl_2_size))\n",
    "        self.layers.append(nn.Tanh())\n",
    "        self.layers.append(nn.Linear(hp.hl_2_size, OUT_SIZE))\n",
    "        self.criterion = criterion()\n",
    "        self.optimizer = optimizer(self.parameters())\n",
    "        self.data = None\n",
    "\n",
    "    def forward(self, x):\n",
    "        x = x.view(-1, IMG_SIZE)\n",
    "        for layer in self.layers:\n",
    "            x = layer(x)\n",
    "        return x\n",
    "\n",
    "    def set_data(self, data):\n",
    "        self.data = data\n",
    "\n",
    "    def epoch(self):\n",
    "        if self.data == None:\n",
    "            raise Exception(\"call set_data before training\")\n",
    "        self.data.mode = Mode.TRAIN\n",
    "        loss = None\n",
    "        for i, (batch, target) in self.data:  \n",
    "            self.optimizer.zero_grad()\n",
    "            result = self.forward(batch)\n",
    "            loss = self.criterion(result, target)\n",
    "            loss.backward()\n",
    "            self.optimizer.step()\n",
    "        if torch.is_tensor(loss):\n",
    "            print(f\"training: loss = {loss.item()}\")   \n",
    "\n",
    "    def evaluate(self):\n",
    "        if self.data == None:\n",
    "            raise Exception(\"call set_data before training\")\n",
    "        self.data.mode = Mode.EVALUATE\n",
    "        correct = 0\n",
    "        total = 0\n",
    "        with torch.no_grad():\n",
    "            for i, (batch, target) in self.data:\n",
    "                output = self.forward(batch)\n",
    "                _, predicted = torch.max(output, 1)\n",
    "                total += target.size(0)\n",
    "                correct += (predicted == target).sum().item()\n",
    "        print('Accuracy: %f' % (100 * correct / total))   \n",
    "\n",
    "if (Quicktest == True):\n",
    "    mlp = MLP(nn.CrossEntropyLoss, optim.Adam)\n",
    "    print(mlp)\n",
    "    print(mlp.optimizer)"
   ]
  },
  {
   "cell_type": "code",
   "execution_count": 4,
   "id": "0100972a-9647-4296-bf92-77c00cc05f85",
   "metadata": {},
   "outputs": [
    {
     "name": "stdout",
     "output_type": "stream",
     "text": [
      "training: loss = 0.5959852337837219\n",
      "training: loss = 0.15534624457359314\n",
      "training: loss = 0.04703182354569435\n",
      "training: loss = 0.029073921963572502\n",
      "training: loss = 0.029344456270337105\n"
     ]
    }
   ],
   "source": [
    "# Train on MNIST\n",
    "mlp = MLP(nn.CrossEntropyLoss, optim.Adam)\n",
    "mlp.set_data(DataHolder(datasets.MNIST))\n",
    "for ep in range(5):\n",
    "    mlp.epoch()"
   ]
  },
  {
   "cell_type": "code",
   "execution_count": 5,
   "id": "3de7d379-4813-464e-90a8-a05cd54551d4",
   "metadata": {},
   "outputs": [
    {
     "name": "stdout",
     "output_type": "stream",
     "text": [
      "Accuracy: 97.090000\n"
     ]
    }
   ],
   "source": [
    "# Evaluate after initial training\n",
    "mlp.evaluate()"
   ]
  },
  {
   "cell_type": "code",
   "execution_count": 6,
   "id": "26f97153-e004-458e-92fc-7fb064b31014",
   "metadata": {},
   "outputs": [
    {
     "name": "stdout",
     "output_type": "stream",
     "text": [
      "training: loss = 0.26545003056526184\n",
      "training: loss = 0.19477340579032898\n",
      "training: loss = 0.3085419237613678\n",
      "training: loss = 0.23180727660655975\n",
      "training: loss = 0.12639132142066956\n"
     ]
    }
   ],
   "source": [
    "# Now train on KMNIST (Hiragana digits 0..9)\n",
    "mlp.set_data(DataHolder(datasets.KMNIST))\n",
    "for ep in range(5):\n",
    "    mlp.epoch()"
   ]
  },
  {
   "cell_type": "code",
   "execution_count": 7,
   "id": "61fa62d3-bdb3-4c1c-8650-fadc44ff36ea",
   "metadata": {},
   "outputs": [
    {
     "name": "stdout",
     "output_type": "stream",
     "text": [
      "Accuracy: 83.690000\n"
     ]
    }
   ],
   "source": [
    "# Evaluate KMNIST after retraining ...\n",
    "mlp.evaluate()"
   ]
  },
  {
   "cell_type": "code",
   "execution_count": 8,
   "id": "2ec81b24-237b-4801-b42d-cda4c6be95a4",
   "metadata": {},
   "outputs": [
    {
     "name": "stdout",
     "output_type": "stream",
     "text": [
      "Accuracy: 9.970000\n"
     ]
    }
   ],
   "source": [
    "# ... KMNIST is hard. Now, re-evaluate goodness at MNIST (was 96.4%)\n",
    "mlp.set_data(DataHolder(datasets.MNIST))\n",
    "mlp.evaluate()"
   ]
  },
  {
   "cell_type": "code",
   "execution_count": null,
   "id": "60821a35-7a98-4837-85be-e017abc17ef1",
   "metadata": {},
   "outputs": [],
   "source": []
  }
 ],
 "metadata": {
  "kernelspec": {
   "display_name": "Python 3 (ipykernel)",
   "language": "python",
   "name": "python3"
  },
  "language_info": {
   "codemirror_mode": {
    "name": "ipython",
    "version": 3
   },
   "file_extension": ".py",
   "mimetype": "text/x-python",
   "name": "python",
   "nbconvert_exporter": "python",
   "pygments_lexer": "ipython3",
   "version": "3.11.1"
  }
 },
 "nbformat": 4,
 "nbformat_minor": 5
}
